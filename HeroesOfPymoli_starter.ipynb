{
 "cells": [
  {
   "cell_type": "markdown",
   "metadata": {},
   "source": [
    "### Heroes Of Pymoli Data Analysis\n",
    "* Of the 1163 active players, the vast majority are male (84%). There also exists, a smaller, but notable proportion of female players (14%).\n",
    "\n",
    "* Our peak age demographic falls between 20-24 (44.8%) with secondary groups falling between 15-19 (18.60%) and 25-29 (13.4%).  \n",
    "-----"
   ]
  },
  {
   "cell_type": "markdown",
   "metadata": {},
   "source": [
    "### Note\n",
    "* Instructions have been included for each segment. You do not have to follow them exactly, but they are included to help you think through the steps."
   ]
  },
  {
   "cell_type": "code",
   "execution_count": 21,
   "metadata": {},
   "outputs": [],
   "source": [
    "# Dependencies and Setup\n",
    "import pandas as pd\n",
    "import numpy as np\n",
    "\n",
    "# File to Load (Remember to Change These)\n",
    "file_to_load = \"Resources/purchase_data.csv\"\n",
    "\n",
    "# Read Purchasing File and store into Pandas data frame\n",
    "purchase_data = pd.read_csv(file_to_load)"
   ]
  },
  {
   "cell_type": "markdown",
   "metadata": {},
   "source": [
    "## Player Count"
   ]
  },
  {
   "cell_type": "markdown",
   "metadata": {},
   "source": [
    "* Display the total number of players\n"
   ]
  },
  {
   "cell_type": "code",
   "execution_count": 22,
   "metadata": {},
   "outputs": [
    {
     "data": {
      "text/html": [
       "<div>\n",
       "<style scoped>\n",
       "    .dataframe tbody tr th:only-of-type {\n",
       "        vertical-align: middle;\n",
       "    }\n",
       "\n",
       "    .dataframe tbody tr th {\n",
       "        vertical-align: top;\n",
       "    }\n",
       "\n",
       "    .dataframe thead th {\n",
       "        text-align: right;\n",
       "    }\n",
       "</style>\n",
       "<table border=\"1\" class=\"dataframe\">\n",
       "  <thead>\n",
       "    <tr style=\"text-align: right;\">\n",
       "      <th></th>\n",
       "    </tr>\n",
       "    <tr>\n",
       "      <th>Total Players</th>\n",
       "    </tr>\n",
       "  </thead>\n",
       "  <tbody>\n",
       "    <tr>\n",
       "      <th>576</th>\n",
       "    </tr>\n",
       "  </tbody>\n",
       "</table>\n",
       "</div>"
      ],
      "text/plain": [
       "Empty DataFrame\n",
       "Columns: []\n",
       "Index: [576]"
      ]
     },
     "execution_count": 22,
     "metadata": {},
     "output_type": "execute_result"
    }
   ],
   "source": [
    "total_players = len(purchase_data[\"SN\"].value_counts())\n",
    "player_count = pd.DataFrame({\"Total Players\":[total_players]})\n",
    "player_count.set_index(\"Total Players\", inplace=True)\n",
    "player_count"
   ]
  },
  {
   "cell_type": "markdown",
   "metadata": {},
   "source": [
    "## Purchasing Analysis (Total)"
   ]
  },
  {
   "cell_type": "markdown",
   "metadata": {},
   "source": [
    "* Run basic calculations to obtain number of unique items, average price, etc.\n",
    "\n",
    "\n",
    "* Create a summary data frame to hold the results\n",
    "\n",
    "\n",
    "* Optional: give the displayed data cleaner formatting\n",
    "\n",
    "\n",
    "* Display the summary data frame\n"
   ]
  },
  {
   "cell_type": "code",
   "execution_count": 23,
   "metadata": {
    "scrolled": true
   },
   "outputs": [
    {
     "data": {
      "text/html": [
       "<style  type=\"text/css\" >\n",
       "</style>  \n",
       "<table id=\"T_7fad9ce6_cf56_11e8_8b32_88b111a65d78\" > \n",
       "<thead>    <tr> \n",
       "        <th class=\"blank level0\" ></th> \n",
       "        <th class=\"col_heading level0 col0\" >Average Price</th> \n",
       "        <th class=\"col_heading level0 col1\" >Number of Purchases</th> \n",
       "        <th class=\"col_heading level0 col2\" >Total Revenue</th> \n",
       "    </tr>    <tr> \n",
       "        <th class=\"index_name level0\" >Number of Unique Items</th> \n",
       "        <th class=\"blank\" ></th> \n",
       "        <th class=\"blank\" ></th> \n",
       "        <th class=\"blank\" ></th> \n",
       "    </tr></thead> \n",
       "<tbody>    <tr> \n",
       "        <th id=\"T_7fad9ce6_cf56_11e8_8b32_88b111a65d78level0_row0\" class=\"row_heading level0 row0\" >183</th> \n",
       "        <td id=\"T_7fad9ce6_cf56_11e8_8b32_88b111a65d78row0_col0\" class=\"data row0 col0\" >$3.05</td> \n",
       "        <td id=\"T_7fad9ce6_cf56_11e8_8b32_88b111a65d78row0_col1\" class=\"data row0 col1\" >780</td> \n",
       "        <td id=\"T_7fad9ce6_cf56_11e8_8b32_88b111a65d78row0_col2\" class=\"data row0 col2\" >$2,379.77</td> \n",
       "    </tr></tbody> \n",
       "</table> "
      ],
      "text/plain": [
       "<pandas.io.formats.style.Styler at 0x13e0a796a58>"
      ]
     },
     "execution_count": 23,
     "metadata": {},
     "output_type": "execute_result"
    }
   ],
   "source": [
    "number_of_unique_items = len((purchase_data[\"Item ID\"]).unique())\n",
    "average_price = (purchase_data[\"Price\"]).mean()\n",
    "number_of_purchases = (purchase_data[\"Purchase ID\"]).count()\n",
    "total_revenue = (purchase_data[\"Price\"]).sum()\n",
    "\n",
    "table_df = pd.DataFrame({\"Number of Unique Items\":[number_of_unique_items],\n",
    "                           \"Average Price\":[average_price], \n",
    "                           \"Number of Purchases\": [number_of_purchases], \n",
    "                           \"Total Revenue\": [total_revenue]})\n",
    "table_df.set_index(\"Number of Unique Items\", inplace=True)\n",
    "table_df\n",
    "table_df.style.format({'Average Price':\"${:,.2f}\",\n",
    "                         'Total Revenue':'${:,.2f}'})"
   ]
  },
  {
   "cell_type": "markdown",
   "metadata": {},
   "source": [
    "## Gender Demographics"
   ]
  },
  {
   "cell_type": "markdown",
   "metadata": {},
   "source": [
    "* Percentage and Count of Male Players\n",
    "\n",
    "\n",
    "* Percentage and Count of Female Players\n",
    "\n",
    "\n",
    "* Percentage and Count of Other / Non-Disclosed\n",
    "\n",
    "\n"
   ]
  },
  {
   "cell_type": "code",
   "execution_count": 26,
   "metadata": {},
   "outputs": [
    {
     "data": {
      "text/html": [
       "<style  type=\"text/css\" >\n",
       "</style>  \n",
       "<table id=\"T_c7925c9e_cf56_11e8_a886_88b111a65d78\" > \n",
       "<thead>    <tr> \n",
       "        <th class=\"blank level0\" ></th> \n",
       "        <th class=\"col_heading level0 col0\" >Percentage of Players</th> \n",
       "        <th class=\"col_heading level0 col1\" >Total Counts</th> \n",
       "    </tr></thead> \n",
       "<tbody>    <tr> \n",
       "        <th id=\"T_c7925c9e_cf56_11e8_a886_88b111a65d78level0_row0\" class=\"row_heading level0 row0\" >Male</th> \n",
       "        <td id=\"T_c7925c9e_cf56_11e8_a886_88b111a65d78row0_col0\" class=\"data row0 col0\" >84.03</td> \n",
       "        <td id=\"T_c7925c9e_cf56_11e8_a886_88b111a65d78row0_col1\" class=\"data row0 col1\" >484</td> \n",
       "    </tr>    <tr> \n",
       "        <th id=\"T_c7925c9e_cf56_11e8_a886_88b111a65d78level0_row1\" class=\"row_heading level0 row1\" >Female</th> \n",
       "        <td id=\"T_c7925c9e_cf56_11e8_a886_88b111a65d78row1_col0\" class=\"data row1 col0\" >14.06</td> \n",
       "        <td id=\"T_c7925c9e_cf56_11e8_a886_88b111a65d78row1_col1\" class=\"data row1 col1\" >81</td> \n",
       "    </tr>    <tr> \n",
       "        <th id=\"T_c7925c9e_cf56_11e8_a886_88b111a65d78level0_row2\" class=\"row_heading level0 row2\" >Other / Non-Disclosed</th> \n",
       "        <td id=\"T_c7925c9e_cf56_11e8_a886_88b111a65d78row2_col0\" class=\"data row2 col0\" >1.91</td> \n",
       "        <td id=\"T_c7925c9e_cf56_11e8_a886_88b111a65d78row2_col1\" class=\"data row2 col1\" >11</td> \n",
       "    </tr></tbody> \n",
       "</table> "
      ],
      "text/plain": [
       "<pandas.io.formats.style.Styler at 0x13e0a7a0f28>"
      ]
     },
     "execution_count": 26,
     "metadata": {},
     "output_type": "execute_result"
    }
   ],
   "source": [
    "gender_stats = purchase_data.groupby(\"Gender\")\n",
    "total_gender = gender_stats.nunique()[\"SN\"]\n",
    "percentage_players = total_gender / total_players * 100\n",
    "gender_demographics = pd.DataFrame({\"Percentage of Players\":percentage_players, \"Total Counts\":total_gender})\n",
    "gender_demographics.index.name = None\n",
    "gender_demographics.sort_values([\"Total Counts\"], ascending = False).style.format({\"Percentage of Players\":\"{:.2f}\"})"
   ]
  },
  {
   "cell_type": "markdown",
   "metadata": {},
   "source": [
    "\n",
    "## Purchasing Analysis (Gender)"
   ]
  },
  {
   "cell_type": "markdown",
   "metadata": {},
   "source": [
    "* Run basic calculations to obtain purchase count, avg. purchase price, avg. purchase total per person etc. by gender\n",
    "\n",
    "\n",
    "\n",
    "\n",
    "* Create a summary data frame to hold the results\n",
    "\n",
    "\n",
    "* Optional: give the displayed data cleaner formatting\n",
    "\n",
    "\n",
    "* Display the summary data frame"
   ]
  },
  {
   "cell_type": "code",
   "execution_count": 27,
   "metadata": {},
   "outputs": [
    {
     "data": {
      "text/html": [
       "<style  type=\"text/css\" >\n",
       "</style>  \n",
       "<table id=\"T_c9e76cb4_cf56_11e8_964f_88b111a65d78\" > \n",
       "<thead>    <tr> \n",
       "        <th class=\"blank level0\" ></th> \n",
       "        <th class=\"col_heading level0 col0\" >Purchase Count</th> \n",
       "        <th class=\"col_heading level0 col1\" >Average Purchase Price</th> \n",
       "        <th class=\"col_heading level0 col2\" >Average Purchase Value</th> \n",
       "        <th class=\"col_heading level0 col3\" >Average Purchase Total per Person</th> \n",
       "    </tr>    <tr> \n",
       "        <th class=\"index_name level0\" >Gender</th> \n",
       "        <th class=\"blank\" ></th> \n",
       "        <th class=\"blank\" ></th> \n",
       "        <th class=\"blank\" ></th> \n",
       "        <th class=\"blank\" ></th> \n",
       "    </tr></thead> \n",
       "<tbody>    <tr> \n",
       "        <th id=\"T_c9e76cb4_cf56_11e8_964f_88b111a65d78level0_row0\" class=\"row_heading level0 row0\" >Female</th> \n",
       "        <td id=\"T_c9e76cb4_cf56_11e8_964f_88b111a65d78row0_col0\" class=\"data row0 col0\" >113</td> \n",
       "        <td id=\"T_c9e76cb4_cf56_11e8_964f_88b111a65d78row0_col1\" class=\"data row0 col1\" >$3.20</td> \n",
       "        <td id=\"T_c9e76cb4_cf56_11e8_964f_88b111a65d78row0_col2\" class=\"data row0 col2\" >$361.94</td> \n",
       "        <td id=\"T_c9e76cb4_cf56_11e8_964f_88b111a65d78row0_col3\" class=\"data row0 col3\" >$4.47</td> \n",
       "    </tr>    <tr> \n",
       "        <th id=\"T_c9e76cb4_cf56_11e8_964f_88b111a65d78level0_row1\" class=\"row_heading level0 row1\" >Male</th> \n",
       "        <td id=\"T_c9e76cb4_cf56_11e8_964f_88b111a65d78row1_col0\" class=\"data row1 col0\" >652</td> \n",
       "        <td id=\"T_c9e76cb4_cf56_11e8_964f_88b111a65d78row1_col1\" class=\"data row1 col1\" >$3.02</td> \n",
       "        <td id=\"T_c9e76cb4_cf56_11e8_964f_88b111a65d78row1_col2\" class=\"data row1 col2\" >$1,967.64</td> \n",
       "        <td id=\"T_c9e76cb4_cf56_11e8_964f_88b111a65d78row1_col3\" class=\"data row1 col3\" >$4.07</td> \n",
       "    </tr>    <tr> \n",
       "        <th id=\"T_c9e76cb4_cf56_11e8_964f_88b111a65d78level0_row2\" class=\"row_heading level0 row2\" >Other / Non-Disclosed</th> \n",
       "        <td id=\"T_c9e76cb4_cf56_11e8_964f_88b111a65d78row2_col0\" class=\"data row2 col0\" >15</td> \n",
       "        <td id=\"T_c9e76cb4_cf56_11e8_964f_88b111a65d78row2_col1\" class=\"data row2 col1\" >$3.35</td> \n",
       "        <td id=\"T_c9e76cb4_cf56_11e8_964f_88b111a65d78row2_col2\" class=\"data row2 col2\" >$50.19</td> \n",
       "        <td id=\"T_c9e76cb4_cf56_11e8_964f_88b111a65d78row2_col3\" class=\"data row2 col3\" >$4.56</td> \n",
       "    </tr></tbody> \n",
       "</table> "
      ],
      "text/plain": [
       "<pandas.io.formats.style.Styler at 0x13e0a7a0e48>"
      ]
     },
     "execution_count": 27,
     "metadata": {},
     "output_type": "execute_result"
    }
   ],
   "source": [
    "purchase_count = gender_stats[\"Purchase ID\"].count()\n",
    "average_purchase_price = gender_stats[\"Price\"].mean()\n",
    "average_purchase_total = gender_stats[\"Price\"].sum()\n",
    "average_purchase_per_person = average_purchase_total / total_gender\n",
    "gender_demographics = pd.DataFrame({\"Purchase Count\":purchase_count, \"Average Purchase Price\":average_purchase_price, \"Average Purchase Value\":average_purchase_total, \"Average Purchase Total per Person\":average_purchase_per_person})\n",
    "gender_demographics.index.name = \"Gender\" \n",
    "gender_demographics.style.format({\"Average Purchase Value\":\"${:,.2f}\",\n",
    "                                  \"Average Purchase Price\":\"${:,.2f}\", \"Average Purchase Total per Person\":\"${:,.2f}\"})"
   ]
  },
  {
   "cell_type": "markdown",
   "metadata": {},
   "source": [
    "## Age Demographics"
   ]
  },
  {
   "cell_type": "markdown",
   "metadata": {},
   "source": [
    "* Establish bins for ages\n",
    "\n",
    "\n",
    "* Categorize the existing players using the age bins. Hint: use pd.cut()\n",
    "\n",
    "\n",
    "* Calculate the numbers and percentages by age group\n",
    "\n",
    "\n",
    "* Create a summary data frame to hold the results\n",
    "\n",
    "\n",
    "* Optional: round the percentage column to two decimal points\n",
    "\n",
    "\n",
    "* Display Age Demographics Table\n"
   ]
  },
  {
   "cell_type": "code",
   "execution_count": 32,
   "metadata": {},
   "outputs": [
    {
     "data": {
      "text/html": [
       "<style  type=\"text/css\" >\n",
       "</style>  \n",
       "<table id=\"T_513e3bdc_cf58_11e8_ae3a_88b111a65d78\" > \n",
       "<thead>    <tr> \n",
       "        <th class=\"blank level0\" ></th> \n",
       "        <th class=\"col_heading level0 col0\" >Purchase Count</th> \n",
       "        <th class=\"col_heading level0 col1\" >Average Purchase Price</th> \n",
       "        <th class=\"col_heading level0 col2\" >Total Purchase Value</th> \n",
       "        <th class=\"col_heading level0 col3\" >Average Purchase Total per Person</th> \n",
       "    </tr>    <tr> \n",
       "        <th class=\"index_name level0\" >Age</th> \n",
       "        <th class=\"blank\" ></th> \n",
       "        <th class=\"blank\" ></th> \n",
       "        <th class=\"blank\" ></th> \n",
       "        <th class=\"blank\" ></th> \n",
       "    </tr></thead> \n",
       "<tbody>    <tr> \n",
       "        <th id=\"T_513e3bdc_cf58_11e8_ae3a_88b111a65d78level0_row0\" class=\"row_heading level0 row0\" ><10</th> \n",
       "        <td id=\"T_513e3bdc_cf58_11e8_ae3a_88b111a65d78row0_col0\" class=\"data row0 col0\" >23</td> \n",
       "        <td id=\"T_513e3bdc_cf58_11e8_ae3a_88b111a65d78row0_col1\" class=\"data row0 col1\" >$3.35</td> \n",
       "        <td id=\"T_513e3bdc_cf58_11e8_ae3a_88b111a65d78row0_col2\" class=\"data row0 col2\" >$77.13</td> \n",
       "        <td id=\"T_513e3bdc_cf58_11e8_ae3a_88b111a65d78row0_col3\" class=\"data row0 col3\" >$4.54</td> \n",
       "    </tr>    <tr> \n",
       "        <th id=\"T_513e3bdc_cf58_11e8_ae3a_88b111a65d78level0_row1\" class=\"row_heading level0 row1\" >10-14</th> \n",
       "        <td id=\"T_513e3bdc_cf58_11e8_ae3a_88b111a65d78row1_col0\" class=\"data row1 col0\" >28</td> \n",
       "        <td id=\"T_513e3bdc_cf58_11e8_ae3a_88b111a65d78row1_col1\" class=\"data row1 col1\" >$2.96</td> \n",
       "        <td id=\"T_513e3bdc_cf58_11e8_ae3a_88b111a65d78row1_col2\" class=\"data row1 col2\" >$82.78</td> \n",
       "        <td id=\"T_513e3bdc_cf58_11e8_ae3a_88b111a65d78row1_col3\" class=\"data row1 col3\" >$3.76</td> \n",
       "    </tr>    <tr> \n",
       "        <th id=\"T_513e3bdc_cf58_11e8_ae3a_88b111a65d78level0_row2\" class=\"row_heading level0 row2\" >15-19</th> \n",
       "        <td id=\"T_513e3bdc_cf58_11e8_ae3a_88b111a65d78row2_col0\" class=\"data row2 col0\" >136</td> \n",
       "        <td id=\"T_513e3bdc_cf58_11e8_ae3a_88b111a65d78row2_col1\" class=\"data row2 col1\" >$3.04</td> \n",
       "        <td id=\"T_513e3bdc_cf58_11e8_ae3a_88b111a65d78row2_col2\" class=\"data row2 col2\" >$412.89</td> \n",
       "        <td id=\"T_513e3bdc_cf58_11e8_ae3a_88b111a65d78row2_col3\" class=\"data row2 col3\" >$3.86</td> \n",
       "    </tr>    <tr> \n",
       "        <th id=\"T_513e3bdc_cf58_11e8_ae3a_88b111a65d78level0_row3\" class=\"row_heading level0 row3\" >20-24</th> \n",
       "        <td id=\"T_513e3bdc_cf58_11e8_ae3a_88b111a65d78row3_col0\" class=\"data row3 col0\" >365</td> \n",
       "        <td id=\"T_513e3bdc_cf58_11e8_ae3a_88b111a65d78row3_col1\" class=\"data row3 col1\" >$3.05</td> \n",
       "        <td id=\"T_513e3bdc_cf58_11e8_ae3a_88b111a65d78row3_col2\" class=\"data row3 col2\" >$1,114.06</td> \n",
       "        <td id=\"T_513e3bdc_cf58_11e8_ae3a_88b111a65d78row3_col3\" class=\"data row3 col3\" >$4.32</td> \n",
       "    </tr>    <tr> \n",
       "        <th id=\"T_513e3bdc_cf58_11e8_ae3a_88b111a65d78level0_row4\" class=\"row_heading level0 row4\" >25-29</th> \n",
       "        <td id=\"T_513e3bdc_cf58_11e8_ae3a_88b111a65d78row4_col0\" class=\"data row4 col0\" >101</td> \n",
       "        <td id=\"T_513e3bdc_cf58_11e8_ae3a_88b111a65d78row4_col1\" class=\"data row4 col1\" >$2.90</td> \n",
       "        <td id=\"T_513e3bdc_cf58_11e8_ae3a_88b111a65d78row4_col2\" class=\"data row4 col2\" >$293.00</td> \n",
       "        <td id=\"T_513e3bdc_cf58_11e8_ae3a_88b111a65d78row4_col3\" class=\"data row4 col3\" >$3.81</td> \n",
       "    </tr>    <tr> \n",
       "        <th id=\"T_513e3bdc_cf58_11e8_ae3a_88b111a65d78level0_row5\" class=\"row_heading level0 row5\" >30-34</th> \n",
       "        <td id=\"T_513e3bdc_cf58_11e8_ae3a_88b111a65d78row5_col0\" class=\"data row5 col0\" >73</td> \n",
       "        <td id=\"T_513e3bdc_cf58_11e8_ae3a_88b111a65d78row5_col1\" class=\"data row5 col1\" >$2.93</td> \n",
       "        <td id=\"T_513e3bdc_cf58_11e8_ae3a_88b111a65d78row5_col2\" class=\"data row5 col2\" >$214.00</td> \n",
       "        <td id=\"T_513e3bdc_cf58_11e8_ae3a_88b111a65d78row5_col3\" class=\"data row5 col3\" >$4.12</td> \n",
       "    </tr>    <tr> \n",
       "        <th id=\"T_513e3bdc_cf58_11e8_ae3a_88b111a65d78level0_row6\" class=\"row_heading level0 row6\" >35-39</th> \n",
       "        <td id=\"T_513e3bdc_cf58_11e8_ae3a_88b111a65d78row6_col0\" class=\"data row6 col0\" >41</td> \n",
       "        <td id=\"T_513e3bdc_cf58_11e8_ae3a_88b111a65d78row6_col1\" class=\"data row6 col1\" >$3.60</td> \n",
       "        <td id=\"T_513e3bdc_cf58_11e8_ae3a_88b111a65d78row6_col2\" class=\"data row6 col2\" >$147.67</td> \n",
       "        <td id=\"T_513e3bdc_cf58_11e8_ae3a_88b111a65d78row6_col3\" class=\"data row6 col3\" >$4.76</td> \n",
       "    </tr>    <tr> \n",
       "        <th id=\"T_513e3bdc_cf58_11e8_ae3a_88b111a65d78level0_row7\" class=\"row_heading level0 row7\" >40-44</th> \n",
       "        <td id=\"T_513e3bdc_cf58_11e8_ae3a_88b111a65d78row7_col0\" class=\"data row7 col0\" >12</td> \n",
       "        <td id=\"T_513e3bdc_cf58_11e8_ae3a_88b111a65d78row7_col1\" class=\"data row7 col1\" >$3.04</td> \n",
       "        <td id=\"T_513e3bdc_cf58_11e8_ae3a_88b111a65d78row7_col2\" class=\"data row7 col2\" >$36.54</td> \n",
       "        <td id=\"T_513e3bdc_cf58_11e8_ae3a_88b111a65d78row7_col3\" class=\"data row7 col3\" >$3.32</td> \n",
       "    </tr>    <tr> \n",
       "        <th id=\"T_513e3bdc_cf58_11e8_ae3a_88b111a65d78level0_row8\" class=\"row_heading level0 row8\" >>45</th> \n",
       "        <td id=\"T_513e3bdc_cf58_11e8_ae3a_88b111a65d78row8_col0\" class=\"data row8 col0\" >1</td> \n",
       "        <td id=\"T_513e3bdc_cf58_11e8_ae3a_88b111a65d78row8_col1\" class=\"data row8 col1\" >$1.70</td> \n",
       "        <td id=\"T_513e3bdc_cf58_11e8_ae3a_88b111a65d78row8_col2\" class=\"data row8 col2\" >$1.70</td> \n",
       "        <td id=\"T_513e3bdc_cf58_11e8_ae3a_88b111a65d78row8_col3\" class=\"data row8 col3\" >$1.70</td> \n",
       "    </tr></tbody> \n",
       "</table> "
      ],
      "text/plain": [
       "<pandas.io.formats.style.Styler at 0x13e0a7b8c18>"
      ]
     },
     "execution_count": 32,
     "metadata": {},
     "output_type": "execute_result"
    }
   ],
   "source": [
    "age_bins = [0, 9.99, 14.99, 19.99, 24.99, 29.99, 34.99, 39.99, 44.99, 99]\n",
    "group_names = [\"<10\", \"10-14\", \"15-19\", \"20-24\", \"25-29\", \"30-34\", \"35-39\", \"40-44\", \">45\" ]\n",
    "purchase_data[\"Age Group\"]= pd.cut(purchase_data[\"Age\"], age_bins, labels= group_names)\n",
    "purchase_data\n",
    "age_group = purchase_data.groupby(\"Age Group\")\n",
    "total_age = age_group[\"SN\"].nunique()\n",
    "\n",
    "purchase_count_age = age_group[\"Purchase ID\"].count()\n",
    "average_purchase_price_per_age = age_group[\"Price\"].mean()\n",
    "total_purchase_value = age_group[\"Price\"].sum()\n",
    "average_purchase_per_age = total_purchase_value / total_age\n",
    "age_demographics = pd.DataFrame({\"Purchase Count\":purchase_count_age,\"Average Purchase Price\":average_purchase_price_per_age, \"Total Purchase Value\":total_purchase_value, \"Average Purchase Total per Person\":average_purchase_per_age})\n",
    "age_demographics.index.name = \"Age\"\n",
    "age_demographics.style.format({ \"Age\":\"${:,.2f}\", \"Average Purchase Price\":\"${:,.2f}\",\n",
    "                                  \"Total Purchase Value\":\"${:,.2f}\", \"Average Purchase Total per Person\":\"${:,.2f}\"})"
   ]
  },
  {
   "cell_type": "markdown",
   "metadata": {},
   "source": [
    "## Purchasing Analysis (Age)"
   ]
  },
  {
   "cell_type": "markdown",
   "metadata": {},
   "source": [
    "* Bin the purchase_data data frame by age\n",
    "\n",
    "\n",
    "* Run basic calculations to obtain purchase count, avg. purchase price, avg. purchase total per person etc. in the table below\n",
    "\n",
    "\n",
    "* Create a summary data frame to hold the results\n",
    "\n",
    "\n",
    "* Optional: give the displayed data cleaner formatting\n",
    "\n",
    "\n",
    "* Display the summary data frame"
   ]
  },
  {
   "cell_type": "code",
   "execution_count": 37,
   "metadata": {},
   "outputs": [
    {
     "name": "stdout",
     "output_type": "stream",
     "text": [
      "       Total Count  Percent of Players\n",
      "<10             23                3.99\n",
      "10-14           28                4.86\n",
      "15-19          136               23.61\n",
      "20-24          365               63.37\n",
      "25-29          101               17.53\n",
      "30-34           73               12.67\n",
      "35-39           41                7.12\n",
      "40-44           12                2.08\n",
      ">45              1                0.17\n"
     ]
    }
   ],
   "source": [
    "age_totals = purchase_data[\"Age Group\"].value_counts()\n",
    "age_percents = round(age_totals/total_players * 100, 2)\n",
    "\n",
    "age_demo = pd.DataFrame({\"Total Count\": age_totals, \"Percent of Players\": age_percents})\n",
    "age_demo = age_demo.sort_index()\n",
    "print(age_demo)"
   ]
  },
  {
   "cell_type": "markdown",
   "metadata": {},
   "source": [
    "## Top Spenders"
   ]
  },
  {
   "cell_type": "markdown",
   "metadata": {},
   "source": [
    "* Run basic calculations to obtain the results in the table below\n",
    "\n",
    "\n",
    "* Create a summary data frame to hold the results\n",
    "\n",
    "\n",
    "* Sort the total purchase value column in descending order\n",
    "\n",
    "\n",
    "* Optional: give the displayed data cleaner formatting\n",
    "\n",
    "\n",
    "* Display a preview of the summary data frame\n",
    "\n"
   ]
  },
  {
   "cell_type": "code",
   "execution_count": 38,
   "metadata": {},
   "outputs": [
    {
     "data": {
      "text/html": [
       "<style  type=\"text/css\" >\n",
       "</style>  \n",
       "<table id=\"T_b08756de_cf58_11e8_972b_88b111a65d78\" > \n",
       "<thead>    <tr> \n",
       "        <th class=\"blank level0\" ></th> \n",
       "        <th class=\"col_heading level0 col0\" >Purchase Count</th> \n",
       "        <th class=\"col_heading level0 col1\" >Average Purchase Price</th> \n",
       "        <th class=\"col_heading level0 col2\" >Total Purchase Value</th> \n",
       "    </tr>    <tr> \n",
       "        <th class=\"index_name level0\" >SN</th> \n",
       "        <th class=\"blank\" ></th> \n",
       "        <th class=\"blank\" ></th> \n",
       "        <th class=\"blank\" ></th> \n",
       "    </tr></thead> \n",
       "<tbody>    <tr> \n",
       "        <th id=\"T_b08756de_cf58_11e8_972b_88b111a65d78level0_row0\" class=\"row_heading level0 row0\" >Lisosia93</th> \n",
       "        <td id=\"T_b08756de_cf58_11e8_972b_88b111a65d78row0_col0\" class=\"data row0 col0\" >5</td> \n",
       "        <td id=\"T_b08756de_cf58_11e8_972b_88b111a65d78row0_col1\" class=\"data row0 col1\" >$3.79</td> \n",
       "        <td id=\"T_b08756de_cf58_11e8_972b_88b111a65d78row0_col2\" class=\"data row0 col2\" >$18.96</td> \n",
       "    </tr>    <tr> \n",
       "        <th id=\"T_b08756de_cf58_11e8_972b_88b111a65d78level0_row1\" class=\"row_heading level0 row1\" >Idastidru52</th> \n",
       "        <td id=\"T_b08756de_cf58_11e8_972b_88b111a65d78row1_col0\" class=\"data row1 col0\" >4</td> \n",
       "        <td id=\"T_b08756de_cf58_11e8_972b_88b111a65d78row1_col1\" class=\"data row1 col1\" >$3.86</td> \n",
       "        <td id=\"T_b08756de_cf58_11e8_972b_88b111a65d78row1_col2\" class=\"data row1 col2\" >$15.45</td> \n",
       "    </tr>    <tr> \n",
       "        <th id=\"T_b08756de_cf58_11e8_972b_88b111a65d78level0_row2\" class=\"row_heading level0 row2\" >Chamjask73</th> \n",
       "        <td id=\"T_b08756de_cf58_11e8_972b_88b111a65d78row2_col0\" class=\"data row2 col0\" >3</td> \n",
       "        <td id=\"T_b08756de_cf58_11e8_972b_88b111a65d78row2_col1\" class=\"data row2 col1\" >$4.61</td> \n",
       "        <td id=\"T_b08756de_cf58_11e8_972b_88b111a65d78row2_col2\" class=\"data row2 col2\" >$13.83</td> \n",
       "    </tr>    <tr> \n",
       "        <th id=\"T_b08756de_cf58_11e8_972b_88b111a65d78level0_row3\" class=\"row_heading level0 row3\" >Iral74</th> \n",
       "        <td id=\"T_b08756de_cf58_11e8_972b_88b111a65d78row3_col0\" class=\"data row3 col0\" >4</td> \n",
       "        <td id=\"T_b08756de_cf58_11e8_972b_88b111a65d78row3_col1\" class=\"data row3 col1\" >$3.40</td> \n",
       "        <td id=\"T_b08756de_cf58_11e8_972b_88b111a65d78row3_col2\" class=\"data row3 col2\" >$13.62</td> \n",
       "    </tr>    <tr> \n",
       "        <th id=\"T_b08756de_cf58_11e8_972b_88b111a65d78level0_row4\" class=\"row_heading level0 row4\" >Iskadarya95</th> \n",
       "        <td id=\"T_b08756de_cf58_11e8_972b_88b111a65d78row4_col0\" class=\"data row4 col0\" >3</td> \n",
       "        <td id=\"T_b08756de_cf58_11e8_972b_88b111a65d78row4_col1\" class=\"data row4 col1\" >$4.37</td> \n",
       "        <td id=\"T_b08756de_cf58_11e8_972b_88b111a65d78row4_col2\" class=\"data row4 col2\" >$13.10</td> \n",
       "    </tr></tbody> \n",
       "</table> "
      ],
      "text/plain": [
       "<pandas.io.formats.style.Styler at 0x13e0a7d2c88>"
      ]
     },
     "execution_count": 38,
     "metadata": {},
     "output_type": "execute_result"
    }
   ],
   "source": [
    "spender_stats = purchase_data.groupby(\"SN\")\n",
    "purchase_count_spender = spender_stats[\"Purchase ID\"].count()\n",
    "avg_purchase_price_spender = spender_stats[\"Price\"].mean()\n",
    "purchase_total_spender = spender_stats[\"Price\"].sum()\n",
    "top_spenders = pd.DataFrame({\"Purchase Count\": purchase_count_spender,\n",
    "                             \"Average Purchase Price\": avg_purchase_price_spender,\n",
    "                             \"Total Purchase Value\":purchase_total_spender})\n",
    "table_spenders = top_spenders.sort_values([\"Total Purchase Value\"], ascending=False).head()\n",
    "table_spenders.style.format({\"Average Purchase Total\":\"${:,.2f}\",\n",
    "                                 \"Average Purchase Price\":\"${:,.2f}\", \n",
    "                                 \"Total Purchase Value\":\"${:,.2f}\"})"
   ]
  },
  {
   "cell_type": "markdown",
   "metadata": {},
   "source": [
    "## Most Popular Items"
   ]
  },
  {
   "cell_type": "markdown",
   "metadata": {},
   "source": [
    "* Retrieve the Item ID, Item Name, and Item Price columns\n",
    "\n",
    "\n",
    "* Group by Item ID and Item Name. Perform calculations to obtain purchase count, item price, and total purchase value\n",
    "\n",
    "\n",
    "* Create a summary data frame to hold the results\n",
    "\n",
    "\n",
    "* Sort the purchase count column in descending order\n",
    "\n",
    "\n",
    "* Optional: give the displayed data cleaner formatting\n",
    "\n",
    "\n",
    "* Display a preview of the summary data frame\n",
    "\n"
   ]
  },
  {
   "cell_type": "code",
   "execution_count": 39,
   "metadata": {},
   "outputs": [
    {
     "data": {
      "text/html": [
       "<style  type=\"text/css\" >\n",
       "</style>  \n",
       "<table id=\"T_e198c2ba_cf58_11e8_a8fb_88b111a65d78\" > \n",
       "<thead>    <tr> \n",
       "        <th class=\"blank\" ></th> \n",
       "        <th class=\"blank level0\" ></th> \n",
       "        <th class=\"col_heading level0 col0\" >Purchase Count</th> \n",
       "        <th class=\"col_heading level0 col1\" >Item Price</th> \n",
       "        <th class=\"col_heading level0 col2\" >Total Purchase Value</th> \n",
       "    </tr>    <tr> \n",
       "        <th class=\"index_name level0\" >Item ID</th> \n",
       "        <th class=\"index_name level1\" >Item Name</th> \n",
       "        <th class=\"blank\" ></th> \n",
       "        <th class=\"blank\" ></th> \n",
       "        <th class=\"blank\" ></th> \n",
       "    </tr></thead> \n",
       "<tbody>    <tr> \n",
       "        <th id=\"T_e198c2ba_cf58_11e8_a8fb_88b111a65d78level0_row0\" class=\"row_heading level0 row0\" >178</th> \n",
       "        <th id=\"T_e198c2ba_cf58_11e8_a8fb_88b111a65d78level1_row0\" class=\"row_heading level1 row0\" >Oathbreaker, Last Hope of the Breaking Storm</th> \n",
       "        <td id=\"T_e198c2ba_cf58_11e8_a8fb_88b111a65d78row0_col0\" class=\"data row0 col0\" >12</td> \n",
       "        <td id=\"T_e198c2ba_cf58_11e8_a8fb_88b111a65d78row0_col1\" class=\"data row0 col1\" >$4.23</td> \n",
       "        <td id=\"T_e198c2ba_cf58_11e8_a8fb_88b111a65d78row0_col2\" class=\"data row0 col2\" >$50.76</td> \n",
       "    </tr>    <tr> \n",
       "        <th id=\"T_e198c2ba_cf58_11e8_a8fb_88b111a65d78level0_row1\" class=\"row_heading level0 row1\" >145</th> \n",
       "        <th id=\"T_e198c2ba_cf58_11e8_a8fb_88b111a65d78level1_row1\" class=\"row_heading level1 row1\" >Fiery Glass Crusader</th> \n",
       "        <td id=\"T_e198c2ba_cf58_11e8_a8fb_88b111a65d78row1_col0\" class=\"data row1 col0\" >9</td> \n",
       "        <td id=\"T_e198c2ba_cf58_11e8_a8fb_88b111a65d78row1_col1\" class=\"data row1 col1\" >$4.58</td> \n",
       "        <td id=\"T_e198c2ba_cf58_11e8_a8fb_88b111a65d78row1_col2\" class=\"data row1 col2\" >$41.22</td> \n",
       "    </tr>    <tr> \n",
       "        <th id=\"T_e198c2ba_cf58_11e8_a8fb_88b111a65d78level0_row2\" class=\"row_heading level0 row2\" >108</th> \n",
       "        <th id=\"T_e198c2ba_cf58_11e8_a8fb_88b111a65d78level1_row2\" class=\"row_heading level1 row2\" >Extraction, Quickblade Of Trembling Hands</th> \n",
       "        <td id=\"T_e198c2ba_cf58_11e8_a8fb_88b111a65d78row2_col0\" class=\"data row2 col0\" >9</td> \n",
       "        <td id=\"T_e198c2ba_cf58_11e8_a8fb_88b111a65d78row2_col1\" class=\"data row2 col1\" >$3.53</td> \n",
       "        <td id=\"T_e198c2ba_cf58_11e8_a8fb_88b111a65d78row2_col2\" class=\"data row2 col2\" >$31.77</td> \n",
       "    </tr>    <tr> \n",
       "        <th id=\"T_e198c2ba_cf58_11e8_a8fb_88b111a65d78level0_row3\" class=\"row_heading level0 row3\" >82</th> \n",
       "        <th id=\"T_e198c2ba_cf58_11e8_a8fb_88b111a65d78level1_row3\" class=\"row_heading level1 row3\" >Nirvana</th> \n",
       "        <td id=\"T_e198c2ba_cf58_11e8_a8fb_88b111a65d78row3_col0\" class=\"data row3 col0\" >9</td> \n",
       "        <td id=\"T_e198c2ba_cf58_11e8_a8fb_88b111a65d78row3_col1\" class=\"data row3 col1\" >$4.90</td> \n",
       "        <td id=\"T_e198c2ba_cf58_11e8_a8fb_88b111a65d78row3_col2\" class=\"data row3 col2\" >$44.10</td> \n",
       "    </tr>    <tr> \n",
       "        <th id=\"T_e198c2ba_cf58_11e8_a8fb_88b111a65d78level0_row4\" class=\"row_heading level0 row4\" >19</th> \n",
       "        <th id=\"T_e198c2ba_cf58_11e8_a8fb_88b111a65d78level1_row4\" class=\"row_heading level1 row4\" >Pursuit, Cudgel of Necromancy</th> \n",
       "        <td id=\"T_e198c2ba_cf58_11e8_a8fb_88b111a65d78row4_col0\" class=\"data row4 col0\" >8</td> \n",
       "        <td id=\"T_e198c2ba_cf58_11e8_a8fb_88b111a65d78row4_col1\" class=\"data row4 col1\" >$1.02</td> \n",
       "        <td id=\"T_e198c2ba_cf58_11e8_a8fb_88b111a65d78row4_col2\" class=\"data row4 col2\" >$8.16</td> \n",
       "    </tr></tbody> \n",
       "</table> "
      ],
      "text/plain": [
       "<pandas.io.formats.style.Styler at 0x13e0a7e6668>"
      ]
     },
     "execution_count": 39,
     "metadata": {},
     "output_type": "execute_result"
    }
   ],
   "source": [
    "items = purchase_data[[\"Item ID\", \"Item Name\", \"Price\"]]\n",
    "item_stats = items.groupby([\"Item ID\",\"Item Name\"])\n",
    "purchase_count_item = item_stats[\"Price\"].count()\n",
    "purchase_value = (item_stats[\"Price\"].sum()) \n",
    "item_price = purchase_value/purchase_count_item\n",
    "most_popular_items = pd.DataFrame({\"Purchase Count\": purchase_count_item, \n",
    "                                   \"Item Price\": item_price,\n",
    "                                   \"Total Purchase Value\":purchase_value})\n",
    "format = most_popular_items.sort_values([\"Purchase Count\"], ascending=False).head()\n",
    "format.style.format({\"Item Price\":\"${:,.2f}\",\n",
    "                                \"Total Purchase Value\":\"${:,.2f}\"})"
   ]
  },
  {
   "cell_type": "markdown",
   "metadata": {},
   "source": [
    "## Most Profitable Items"
   ]
  },
  {
   "cell_type": "markdown",
   "metadata": {},
   "source": [
    "* Sort the above table by total purchase value in descending order\n",
    "\n",
    "\n",
    "* Optional: give the displayed data cleaner formatting\n",
    "\n",
    "\n",
    "* Display a preview of the data frame\n",
    "\n"
   ]
  },
  {
   "cell_type": "code",
   "execution_count": 40,
   "metadata": {
    "scrolled": true
   },
   "outputs": [
    {
     "data": {
      "text/html": [
       "<style  type=\"text/css\" >\n",
       "</style>  \n",
       "<table id=\"T_0172f142_cf59_11e8_aba1_88b111a65d78\" > \n",
       "<thead>    <tr> \n",
       "        <th class=\"blank\" ></th> \n",
       "        <th class=\"blank level0\" ></th> \n",
       "        <th class=\"col_heading level0 col0\" >Purchase Count</th> \n",
       "        <th class=\"col_heading level0 col1\" >Item Price</th> \n",
       "        <th class=\"col_heading level0 col2\" >Total Purchase Value</th> \n",
       "    </tr>    <tr> \n",
       "        <th class=\"index_name level0\" >Item ID</th> \n",
       "        <th class=\"index_name level1\" >Item Name</th> \n",
       "        <th class=\"blank\" ></th> \n",
       "        <th class=\"blank\" ></th> \n",
       "        <th class=\"blank\" ></th> \n",
       "    </tr></thead> \n",
       "<tbody>    <tr> \n",
       "        <th id=\"T_0172f142_cf59_11e8_aba1_88b111a65d78level0_row0\" class=\"row_heading level0 row0\" >178</th> \n",
       "        <th id=\"T_0172f142_cf59_11e8_aba1_88b111a65d78level1_row0\" class=\"row_heading level1 row0\" >Oathbreaker, Last Hope of the Breaking Storm</th> \n",
       "        <td id=\"T_0172f142_cf59_11e8_aba1_88b111a65d78row0_col0\" class=\"data row0 col0\" >12</td> \n",
       "        <td id=\"T_0172f142_cf59_11e8_aba1_88b111a65d78row0_col1\" class=\"data row0 col1\" >$4.23</td> \n",
       "        <td id=\"T_0172f142_cf59_11e8_aba1_88b111a65d78row0_col2\" class=\"data row0 col2\" >$50.76</td> \n",
       "    </tr>    <tr> \n",
       "        <th id=\"T_0172f142_cf59_11e8_aba1_88b111a65d78level0_row1\" class=\"row_heading level0 row1\" >82</th> \n",
       "        <th id=\"T_0172f142_cf59_11e8_aba1_88b111a65d78level1_row1\" class=\"row_heading level1 row1\" >Nirvana</th> \n",
       "        <td id=\"T_0172f142_cf59_11e8_aba1_88b111a65d78row1_col0\" class=\"data row1 col0\" >9</td> \n",
       "        <td id=\"T_0172f142_cf59_11e8_aba1_88b111a65d78row1_col1\" class=\"data row1 col1\" >$4.90</td> \n",
       "        <td id=\"T_0172f142_cf59_11e8_aba1_88b111a65d78row1_col2\" class=\"data row1 col2\" >$44.10</td> \n",
       "    </tr>    <tr> \n",
       "        <th id=\"T_0172f142_cf59_11e8_aba1_88b111a65d78level0_row2\" class=\"row_heading level0 row2\" >145</th> \n",
       "        <th id=\"T_0172f142_cf59_11e8_aba1_88b111a65d78level1_row2\" class=\"row_heading level1 row2\" >Fiery Glass Crusader</th> \n",
       "        <td id=\"T_0172f142_cf59_11e8_aba1_88b111a65d78row2_col0\" class=\"data row2 col0\" >9</td> \n",
       "        <td id=\"T_0172f142_cf59_11e8_aba1_88b111a65d78row2_col1\" class=\"data row2 col1\" >$4.58</td> \n",
       "        <td id=\"T_0172f142_cf59_11e8_aba1_88b111a65d78row2_col2\" class=\"data row2 col2\" >$41.22</td> \n",
       "    </tr>    <tr> \n",
       "        <th id=\"T_0172f142_cf59_11e8_aba1_88b111a65d78level0_row3\" class=\"row_heading level0 row3\" >92</th> \n",
       "        <th id=\"T_0172f142_cf59_11e8_aba1_88b111a65d78level1_row3\" class=\"row_heading level1 row3\" >Final Critic</th> \n",
       "        <td id=\"T_0172f142_cf59_11e8_aba1_88b111a65d78row3_col0\" class=\"data row3 col0\" >8</td> \n",
       "        <td id=\"T_0172f142_cf59_11e8_aba1_88b111a65d78row3_col1\" class=\"data row3 col1\" >$4.88</td> \n",
       "        <td id=\"T_0172f142_cf59_11e8_aba1_88b111a65d78row3_col2\" class=\"data row3 col2\" >$39.04</td> \n",
       "    </tr>    <tr> \n",
       "        <th id=\"T_0172f142_cf59_11e8_aba1_88b111a65d78level0_row4\" class=\"row_heading level0 row4\" >103</th> \n",
       "        <th id=\"T_0172f142_cf59_11e8_aba1_88b111a65d78level1_row4\" class=\"row_heading level1 row4\" >Singed Scalpel</th> \n",
       "        <td id=\"T_0172f142_cf59_11e8_aba1_88b111a65d78row4_col0\" class=\"data row4 col0\" >8</td> \n",
       "        <td id=\"T_0172f142_cf59_11e8_aba1_88b111a65d78row4_col1\" class=\"data row4 col1\" >$4.35</td> \n",
       "        <td id=\"T_0172f142_cf59_11e8_aba1_88b111a65d78row4_col2\" class=\"data row4 col2\" >$34.80</td> \n",
       "    </tr></tbody> \n",
       "</table> "
      ],
      "text/plain": [
       "<pandas.io.formats.style.Styler at 0x13e0a7a04a8>"
      ]
     },
     "execution_count": 40,
     "metadata": {},
     "output_type": "execute_result"
    }
   ],
   "source": [
    "format = most_popular_items.sort_values([\"Total Purchase Value\"],\n",
    "                                                   ascending=False).head()\n",
    "format.style.format({\"Item Price\":\"${:,.2f}\",\n",
    "                                \"Total Purchase Value\":\"${:,.2f}\"})"
   ]
  },
  {
   "cell_type": "code",
   "execution_count": null,
   "metadata": {},
   "outputs": [],
   "source": []
  }
 ],
 "metadata": {
  "anaconda-cloud": {},
  "kernel_info": {
   "name": "python3"
  },
  "kernelspec": {
   "display_name": "Python 3",
   "language": "python",
   "name": "python3"
  },
  "language_info": {
   "codemirror_mode": {
    "name": "ipython",
    "version": 3
   },
   "file_extension": ".py",
   "mimetype": "text/x-python",
   "name": "python",
   "nbconvert_exporter": "python",
   "pygments_lexer": "ipython3",
   "version": "3.6.5"
  },
  "nteract": {
   "version": "0.2.0"
  }
 },
 "nbformat": 4,
 "nbformat_minor": 2
}
